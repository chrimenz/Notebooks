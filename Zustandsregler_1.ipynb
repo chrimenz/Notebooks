{
 "cells": [
  {
   "cell_type": "markdown",
   "metadata": {},
   "source": [
    "# Einführung in die Python Control Systems Library\n",
    "\n",
    "LV Elektronische Steuerungs- und Regelungssysteme SS2020 (Master ETuIT, HSM, (c) Christoph Menz) "
   ]
  },
  {
   "cell_type": "markdown",
   "metadata": {},
   "source": [
    "***\n",
    "\n",
    "Zur Lösung regelungstechnischer Problemstellungen mit Python bietet sich die Nutzung der [Python Control Systems Library](https://python-control.readthedocs.io/en/0.8.3/) an. Diese bietet ähnliche Funktionalitäten, wie die Matlab Control Systems Toolbox. Die Nutzung des vollständigen Funktionsumfangs erfordert unter Windows neben der [Installation der entsprechenden Library](https://python-control.readthedocs.io/en/0.8.3/intro.html) die zusätzliche Installation der Pakete\n",
    "[NumPy+MKL](https://www.lfd.uci.edu/~gohlke/pythonlibs/#numpy)\n",
    "sowie \n",
    "[SlyCot 0.3](https://www.lfd.uci.edu/~gohlke/pythonlibs/#slycot). \n",
    "([Installationsanleitung](https://tu-dresden.de/ing/elektrotechnik/rst/studium/python-in-der-lehre))\n",
    "\n",
    "***"
   ]
  },
  {
   "cell_type": "markdown",
   "metadata": {},
   "source": [
    "## Beispiel Gleichstrommotor"
   ]
  },
  {
   "cell_type": "markdown",
   "metadata": {},
   "source": [
    "***\n",
    "\n",
    "### Modellbildung Zustandsraum"
   ]
  },
  {
   "cell_type": "markdown",
   "metadata": {},
   "source": [
    "Gegeben sei folgendes Modell eines Gleichstrommotors (vgl. Vorlesung - wir haben hier noch die Motorposition $\\varphi = \\int \\omega dt$ als Zustandsgröße hinzugefügt):\n",
    "\n",
    "$\n",
    "\\begin{align}\n",
    "    \\dot{\\varphi} &= \\omega \\\\\n",
    "    \\dot{\\omega} &= -\\frac{k_r}{J}\\omega + \\frac{k_m}{J}i - \\frac{1}{J}M_L \\\\\n",
    "    \\dot{i} &= -\\frac{k_m}{L}\\omega -\\frac{R}{L}i + \\frac{1}{L}u_e \\\\\n",
    "\\end{align}\n",
    "$"
   ]
  },
  {
   "cell_type": "markdown",
   "metadata": {},
   "source": [
    "Mit dem Zustandsvektor \n",
    "\n",
    "$\n",
    "\\mathbf{x} = \\begin{bmatrix}{ \\varphi \\\\ \\omega \\\\ i } \\end{bmatrix} ,\n",
    "$ \n",
    "\n",
    "der Systemmatrix\n",
    "\n",
    "$\n",
    "\\mathbf{A} = \n",
    "\\begin{bmatrix}\n",
    "    0 & 1 & 0 \\\\ \n",
    "    0 & -\\frac{k_r}{J} & \\frac{k_m}{J} \\\\  \n",
    "    0 & -\\frac{k_m}{L} & - \\frac{R}{L} \n",
    "\\end{bmatrix} ,\n",
    "$ \n",
    "\n",
    "dem Eingangsvektor \n",
    "\n",
    "$\n",
    "\\mathbf{u} = \\begin{bmatrix}{ u_e \\\\ M_L} \\end{bmatrix} ,\n",
    "$ \n",
    "\n",
    "(Wir modellieren zunächst sowohl $u_e$ als auch $M_L$ als Eingänge des Systems. Damit lassen sich Störungen durch ein variierndes Lastmoment unkompliziert simulieren. Zum Entwurf des Reglers für den Motorbetrieb werden wir das Lastmoment später als Störgröße behandeln.)\n",
    "\n",
    "und der zugehörigen Eingangsmatrix\n",
    "\n",
    "$\n",
    "\\mathbf{B} = \n",
    "\\begin{bmatrix}\n",
    "    0 & 0 \\\\ \n",
    "    0 & -\\frac{1}{J} \\\\  \n",
    "    \\frac{1}{L} & 0  \n",
    "\\end{bmatrix} \n",
    "$\n",
    "\n",
    "können wir das System in eine Zustandsraumdarstellung der Form\n",
    "\n",
    "$\n",
    "\\mathbf{\\dot{x}} = \\mathbf{Ax} + \\mathbf{Bu}\n",
    "$\n",
    "\n",
    "überführen. \n",
    "\n",
    "Zu Simulationszwecken modellieren wir zunächst den kompletten Zustandsvektor als Ausgangsvektor. Es ergibt sich mit der Ausgangsmatrix\n",
    "\n",
    "$\n",
    "\\mathbf{C} = \n",
    "\\begin{bmatrix}\n",
    "    1 & 0 & 0 \\\\\n",
    "    0 & 1 & 0 \\\\\n",
    "    0 & 0 & 1\n",
    "\\end{bmatrix} \n",
    "$\n",
    "\n",
    "die Ausgangsgleichung\n",
    "\n",
    "$\n",
    "\\mathbf{y} = \\mathbf{C} \\mathbf{x}\n",
    "$\n"
   ]
  },
  {
   "cell_type": "markdown",
   "metadata": {},
   "source": [
    "***\n",
    "\n",
    "### Simulation"
   ]
  },
  {
   "cell_type": "code",
   "execution_count": 1,
   "metadata": {},
   "outputs": [],
   "source": [
    "import numpy as np\n",
    "import matplotlib.pyplot as plt\n",
    "import control as ctrl\n",
    "#plt.style.use('dark_background')"
   ]
  },
  {
   "cell_type": "markdown",
   "metadata": {},
   "source": [
    "Wir nehmen an, dass die Parameter bereits identifizert wurden oder von vornherein bekannt sind:"
   ]
  },
  {
   "cell_type": "code",
   "execution_count": 2,
   "metadata": {},
   "outputs": [],
   "source": [
    "# Parameter\n",
    "R = 1\n",
    "L = 0.01\n",
    "J = 0.1\n",
    "km = 1\n",
    "kr = 1\n",
    "\n",
    "# System\n",
    "A = [[0.,1.,0.],[0,-kr/J,km/J],[0,-km/L,-R/L]]\n",
    "B = [[0.,0.],[0,-1/J],[1/L,0]]\n",
    "C = [[1,0,0],[0,1,0],[0,0,1]]\n",
    "D = [[0,0],[0,0],[0,0]]\n",
    "\n",
    "# Erzeugung eines ZR-Modells mit der Control Systemes Library\n",
    "sys = ctrl.ss(A,B,C,D)"
   ]
  },
  {
   "cell_type": "markdown",
   "metadata": {},
   "source": [
    "#### Sprungantwort \n",
    "(nur Spannungssprung, kein Lastmoment - nutzen wir das Moment als Eingang `input=1`, simulieren wir den Kurzschlussfall $u_e$ = 0):"
   ]
  },
  {
   "cell_type": "code",
   "execution_count": 3,
   "metadata": {},
   "outputs": [
    {
     "data": {
      "image/png": "[encoded data removed]",
      "text/plain": [
       "<Figure size 432x288 with 1 Axes>"
      ]
     },
     "metadata": {},
     "output_type": "display_data"
    }
   ],
   "source": [
    "# Sprungantwort\n",
    "t, y = ctrl.step_response(sys,T=np.linspace(0,0.4,1001),input=0)\n",
    "\n",
    "plt.plot(t, y[0])\n",
    "plt.plot(t, y[1])\n",
    "plt.plot(t, y[2])\n",
    "plt.grid()\n",
    "plt.xlabel('t')\n",
    "plt.ylabel('x')\n",
    "plt.legend(['$\\phi$','$\\omega$','$i$'])\n",
    "plt.show()"
   ]
  },
  {
   "cell_type": "markdown",
   "metadata": {},
   "source": [
    "***\n",
    "\n",
    "### Reglerentwurf"
   ]
  },
  {
   "cell_type": "markdown",
   "metadata": {},
   "source": [
    "Ziel ist es zunächst, das System aktiv in der Nulllage $\\varphi = 0$ zu halten.  "
   ]
  },
  {
   "cell_type": "markdown",
   "metadata": {},
   "source": [
    "Unser System wird für den Entwurf auf eine Eingangsgröße $u = u_e$ und eine Ausgangsgröße $y = \\varphi$ reduziert\n",
    "\n",
    "$\n",
    "\\mathbf{b} = \n",
    "\\begin{bmatrix}\n",
    "    0 \\\\ 0 \\\\ \\frac{1}{L}  \n",
    "\\end{bmatrix} \n",
    "$\n",
    "\n",
    "$\n",
    "\\mathbf{c} = \n",
    "\\begin{bmatrix}\n",
    "    1 & 0 & 0  \n",
    "\\end{bmatrix} \n",
    "$\n",
    "\n",
    "$\n",
    "d = 0\n",
    "$"
   ]
  },
  {
   "cell_type": "code",
   "execution_count": 4,
   "metadata": {},
   "outputs": [],
   "source": [
    "# Erzeugung eines ZR-Modells mit der Control Systemes Library\n",
    "b = [[0],[0],[1/L]]\n",
    "c = [1,0,0]\n",
    "d = 0\n",
    "\n",
    "sysr = ctrl.ss(A,b,c,d)"
   ]
  },
  {
   "cell_type": "markdown",
   "metadata": {},
   "source": [
    "Zunächst prüfen wir die Steuerbarkeit des Systems. Die Steuerbarkeitsmatrix muss den gleichen Rang, wie die Systemordnung - in unserem Fall 3 - haben:"
   ]
  },
  {
   "cell_type": "code",
   "execution_count": 5,
   "metadata": {},
   "outputs": [
    {
     "name": "stdout",
     "output_type": "stream",
     "text": [
      "Rang = 3\n"
     ]
    }
   ],
   "source": [
    "# Steuerbarkeitsmatrix\n",
    "Cm = ctrl.ctrb(A, b)\n",
    "# Rang \n",
    "N = np.linalg.matrix_rank(Cm)\n",
    "\n",
    "print(\"Rang = \" + str(N)) "
   ]
  },
  {
   "cell_type": "markdown",
   "metadata": {},
   "source": [
    "Jetzt können wir einen Regler mittels Polvorgabe entwerfen. Mit der linearen Zustandsrückführung $u = -\\mathbf{k}^T\\mathbf{x}$ ergibt sich das geregelte System \n",
    "\n",
    "$\n",
    "\\begin{align}\n",
    "\\mathbf{\\dot{x}} \n",
    "&= \\mathbf{A}\\mathbf{x} + \\mathbf{b} u \\\\  \n",
    "&= \\mathbf{A}\\mathbf{x} - \\mathbf{b} \\mathbf{k}^T \\mathbf{x} \\\\\n",
    "&= \\underbrace{(\\mathbf{A} - \\mathbf{b} \\mathbf{k}^T)}_{\\mathbf{A}_R} \\mathbf{x} \n",
    "\\end{align} \n",
    "$\n",
    "\n",
    "Mit der Pol- oder Eigenwertvorgabe wird demzufolge die Dynamik des geregelten Systems \n",
    "\n",
    "$\n",
    "\\mathbf{\\dot{x}} = \\mathbf{A}_R \\mathbf{x} \\\\\n",
    "$\n",
    "\n",
    "definiert. Zur Berechnung der Matrix $\\mathbf{k}^T$ kann die Funktion `place` (oder `acker` für Eingrößensysteme) genutzt werden. Für ein stabiles Verhalten müssen die Eigenwerte einen negativen Realteil aufweisen.  "
   ]
  },
  {
   "cell_type": "code",
   "execution_count": 6,
   "metadata": {},
   "outputs": [
    {
     "name": "stdout",
     "output_type": "stream",
     "text": [
      "k = [[20.25   0.675 -0.2  ]]\n",
      "k1 = [[31.6227766   2.39866175  2.38817537]]\n",
      "p1 = [-328.44727 +0.j   -7.454327+0.j  -12.915936+0.j]\n"
     ]
    }
   ],
   "source": [
    "# Eigenwerte \n",
    "p = [-15,-30,-45]\n",
    "\n",
    "# Reglermatrix\n",
    "K = ctrl.place(A,b,p)\n",
    "\n",
    "Q = np.diag([10,.1,.1])\n",
    "R = np.diag([.01])\n",
    "\n",
    "K1,S1,p1 = ctrl.lqr(A,b,Q,R)\n",
    "\n",
    "print(\"k = \" + str(K))\n",
    "print(\"k1 = \" + str(K1))\n",
    "print(\"p1 = \" + str(p1))"
   ]
  },
  {
   "cell_type": "markdown",
   "metadata": {},
   "source": [
    "Wir können das Verhalten des geregelten Systems bei bestehender Anfangsabweichung mit der Funktion `forced_response` simulieren:"
   ]
  },
  {
   "cell_type": "code",
   "execution_count": 7,
   "metadata": {},
   "outputs": [],
   "source": [
    "# geregeltes System\n",
    "Ar = A - np.dot(b,K)\n",
    "br = [[0],[0],[0]] \n",
    "cr = c\n",
    "dr = d\n",
    "sysr = ctrl.ss(Ar,br,cr,dr)"
   ]
  },
  {
   "cell_type": "code",
   "execution_count": 8,
   "metadata": {},
   "outputs": [
    {
     "data": {
      "image/png": "[encoded data removed]",
      "text/plain": [
       "<Figure size 432x288 with 1 Axes>"
      ]
     },
     "metadata": {},
     "output_type": "display_data"
    }
   ],
   "source": [
    "# Anfangszustand\n",
    "x0 = [[-0.5],[0],[0]]\n",
    "\n",
    "# Simulation\n",
    "t, y, x= ctrl.forced_response(sysr,T=np.linspace(0,1.0,1001),X0=x0)\n",
    "\n",
    "plt.plot(t, y)\n",
    "plt.plot(t, x[1])\n",
    "plt.plot(t, x[2])\n",
    "plt.grid()\n",
    "plt.xlabel('t')\n",
    "plt.ylabel('x')\n",
    "plt.legend(['$\\phi$','$\\omega$','$i$'])\n",
    "plt.show()"
   ]
  },
  {
   "cell_type": "markdown",
   "metadata": {},
   "source": [
    "Diese Art der Simulation ist für den ersten Entwurf und den Überblick über die gewünschte Dynamik geeignet. Um den zeitlichen Verlauf von Stellgrößen und ggf. weitere Störgrößen zu simulieren, ist es zweckmäßiger, das System explizit für definierte, ggf. diskrete Zeitschritte zu simulieren:\n"
   ]
  },
  {
   "cell_type": "code",
   "execution_count": 9,
   "metadata": {},
   "outputs": [],
   "source": [
    "dt = 0.001 \n",
    "T = np.arange(0,1+dt,dt) \n",
    "\n",
    "uc = np.zeros(len(T)) # Eingangsgröße \n",
    "xc = np.zeros([len(T)+1,3]) # Zustandsgrößen\n",
    "yc = np.zeros(len(T)) # Ausgangsgröße\n",
    "\n",
    "# Anfangsbedingung\n",
    "x0 = [0.5,0,0]\n",
    "xc[0] = np.array(x0)\n",
    "\n",
    "for k in range(len(t)):\n",
    "    \n",
    "    # Stellgröße berechnen \n",
    "    uc[k] = - np.dot(K,xc[k])\n",
    "    # System simulieren (Euler)\n",
    "    dx = np.dot(A,xc[k]) + np.dot(b,uc[k]).T\n",
    "    xc[k+1] = xc[k] + dx*dt\n",
    "    # Ausgangsgröße\n",
    "    yc[k] = np.dot(c,xc[k])"
   ]
  },
  {
   "cell_type": "code",
   "execution_count": 10,
   "metadata": {},
   "outputs": [
    {
     "data": {
      "image/png": "[encoded data removed]",
      "text/plain": [
       "<Figure size 432x288 with 1 Axes>"
      ]
     },
     "metadata": {},
     "output_type": "display_data"
    }
   ],
   "source": [
    "plt.plot(T, yc)\n",
    "plt.plot(T, xc[:len(T),1])\n",
    "plt.plot(T, xc[:len(T),2])\n",
    "plt.plot(T, uc, '--')\n",
    "plt.grid()\n",
    "plt.xlabel('t')\n",
    "plt.ylabel('y,x,u')\n",
    "plt.legend(['$\\phi$','$\\omega$','$i$','$u$'])\n",
    "plt.show()"
   ]
  },
  {
   "cell_type": "code",
   "execution_count": null,
   "metadata": {},
   "outputs": [],
   "source": []
  }
 ],
 "metadata": {
  "kernelspec": {
   "display_name": "Python 3",
   "language": "python",
   "name": "python3"
  },
  "language_info": {
   "codemirror_mode": {
    "name": "ipython",
    "version": 3
   },
   "file_extension": ".py",
   "mimetype": "text/x-python",
   "name": "python",
   "nbconvert_exporter": "python",
   "pygments_lexer": "ipython3",
   "version": "3.6.3"
  }
 },
 "nbformat": 4,
 "nbformat_minor": 4
}
