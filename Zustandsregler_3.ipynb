{
 "cells": [
  {
   "cell_type": "markdown",
   "metadata": {},
   "source": [
    "# Zustandsregelung - Teil 3: Linearisierung\n",
    "\n",
    "LV Elektronische Steuerungs- und Regelungssysteme SS2021 (Master ETuIT, HSM, (c) Christoph Menz) "
   ]
  },
  {
   "cell_type": "markdown",
   "metadata": {},
   "source": [
    "***\n",
    "\n",
    "Oftmals hat das zu regelnde System eine nichtlineare Struktur. Um dennoch mit den vorgestellten linearen Methoden einen Regler zu entwerfen, kann man das System um einen (oder mehrere) Arbeitspunkte linearisieren und den Entwurf am linearisierten Modell vornehmen. Dies wird in diesem Notebook exemplarisch dargestellt.    \n",
    "\n",
    "***"
   ]
  },
  {
   "cell_type": "code",
   "execution_count": 51,
   "metadata": {},
   "outputs": [],
   "source": [
    "import numpy as np\n",
    "import matplotlib.pyplot as plt\n",
    "import matplotlib.image as mpimg\n",
    "#import control as ctrl\n",
    "from scipy import signal"
   ]
  },
  {
   "cell_type": "markdown",
   "metadata": {},
   "source": [
    "***\n",
    "\n",
    "### Linearisierung um einen Arbeitspunkt"
   ]
  },
  {
   "cell_type": "markdown",
   "metadata": {},
   "source": [
    "Ein System der Form\n",
    "\n",
    "$\n",
    "\\dot{x} = f(x,u)\n",
    "$\n",
    "\n",
    "$\n",
    "y = g(x,u)\n",
    "$\n",
    "\n",
    "kann mittels einer Taylorreihe erster (ggf. auch höherer) Ordnung um einen Arbeitspunkt $x_0,u_0$ approximiert werden:\n",
    "\n"
   ]
  },
  {
   "cell_type": "markdown",
   "metadata": {},
   "source": [
    "$\n",
    "f(x,u) \\approx f(x_0,u_0) + \\dfrac{\\partial f}{\\partial x}_{| x_0,u_0} (x - x_0) + \n",
    "\\dfrac{\\partial f}{\\partial u}_{| x_0,u_0} (u - u_0)\n",
    "$\n",
    "\n",
    "$\n",
    "g(x,u) \\approx g(x_0,u_0) + \\dfrac{\\partial g}{\\partial x}_{|x_0,u_0} (x - x_0) + \n",
    "\\dfrac{\\partial g}{\\partial u}_{|x_0,u_0} (u - u_0)\n",
    "$"
   ]
  },
  {
   "cell_type": "markdown",
   "metadata": {},
   "source": [
    "mit\n",
    "\n",
    "$\n",
    "\\Delta x = x - x_0\n",
    "$\n",
    "\n",
    "$\n",
    "\\Delta u = u - u_0\n",
    "$\n",
    "\n",
    "$\n",
    "\\Delta \\dot{x} = f(x,u) - f(x_0,u_0)\n",
    "$\n",
    "\n",
    "$\n",
    "\\Delta y = g(x,u) - g(x_0,u_0)\n",
    "$\n"
   ]
  },
  {
   "cell_type": "markdown",
   "metadata": {},
   "source": [
    "sowie\n",
    "\n",
    "$\n",
    "A_0 = \\dfrac{\\partial f}{\\partial x}_{|x_0,u_0}\n",
    "$\n",
    "\n",
    "$\n",
    "B_0 = \\dfrac{\\partial f}{\\partial u}_{|x_0,u_0}\n",
    "$\n",
    "\n",
    "$\n",
    "C_0 = \\dfrac{\\partial g}{\\partial x}_{|x_0,u_0}\n",
    "$\n",
    "\n",
    "$\n",
    "D_0 = \\dfrac{\\partial g}{\\partial u}_{|x_0,u_0}\n",
    "$\n"
   ]
  },
  {
   "cell_type": "markdown",
   "metadata": {},
   "source": [
    "ergibt sich das lineariserte System\n",
    "\n",
    "$\n",
    "\\Delta \\dot{x} = A_0 \\Delta x + B_0 \\Delta u \n",
    "$\n",
    "\n",
    "$\n",
    "\\Delta y = C_0 \\Delta x + D_0 \\Delta u \n",
    "$\n",
    "\n",
    "an dem dann der Reglerentwurf wie gehabt vorgenommen werden kann. "
   ]
  },
  {
   "cell_type": "markdown",
   "metadata": {},
   "source": [
    "Setzt man voraus, dass sich im Arbeitspunkt das System in einer Ruhelage befindet und zeitlich nicht verändert, gilt\n",
    "\n",
    "$\n",
    "f(x_0,u_0) = 0\n",
    "$"
   ]
  },
  {
   "cell_type": "markdown",
   "metadata": {},
   "source": [
    "***\n",
    "\n",
    "### Beispiel"
   ]
  },
  {
   "cell_type": "markdown",
   "metadata": {},
   "source": [
    "Gegeben sei ein System \n",
    "\n",
    "$\n",
    "\\dot{x}_1 = 1 - x_1 - x_1 x_2\n",
    "$\n",
    "\n",
    "$\n",
    "\\dot{x}_2 = - x_2 + \\sin(u)\n",
    "$\n",
    "\n",
    "$\n",
    "y = x_1\n",
    "$\n",
    "\n",
    "$\n",
    "-0.5 \\leq u \\leq 0.5\n",
    "$"
   ]
  },
  {
   "cell_type": "markdown",
   "metadata": {},
   "source": [
    "das um einen Arbeitspunkt $x_0 = {(x_{1_0},x_{2_0)}}^T,u_0$ geregelt werden soll. Wir linearisieren das System um diesen Punkt:\n",
    "\n",
    "\n",
    "\n"
   ]
  },
  {
   "cell_type": "markdown",
   "metadata": {},
   "source": [
    "\n",
    "$ \n",
    "A_0 = \\begin{bmatrix}\n",
    "\\dfrac{\\partial{f_1}}{\\partial{x_1}}_{|x_0,u_0} &\n",
    "\\dfrac{\\partial{f_1}}{\\partial{x_2}}_{|x_0,u_0} \\\\\n",
    "\\dfrac{\\partial{f_2}}{\\partial{x_1}}_{|x_0,u_0} &\n",
    "\\dfrac{\\partial{f_2}}{\\partial{x_2}}_{|x_0,u_0} \n",
    "\\end{bmatrix} \n",
    "= \\begin{bmatrix}\n",
    "-1-x_{2_0} &\n",
    "-x_{1_0} \\\\\n",
    "0 &\n",
    "-1 \n",
    "\\end{bmatrix} \n",
    "$\n"
   ]
  },
  {
   "cell_type": "markdown",
   "metadata": {},
   "source": [
    "$\n",
    "B_0 = \n",
    "\\begin{bmatrix}\n",
    "\\dfrac{\\partial f_1}{\\partial u}_{|x_0,u_0} \\\\\n",
    "\\dfrac{\\partial f_2}{\\partial u}_{|x_0,u_0} \n",
    "\\end{bmatrix}\n",
    "= \\begin{bmatrix}\n",
    "0 \\\\\n",
    "\\cos(u_0) \n",
    "\\end{bmatrix}\n",
    "$\n"
   ]
  },
  {
   "cell_type": "markdown",
   "metadata": {},
   "source": [
    "\n",
    "$\n",
    "C_0 = \n",
    "\\begin{bmatrix}\n",
    "1 &\n",
    "0 \n",
    "\\end{bmatrix}\n",
    "$"
   ]
  },
  {
   "cell_type": "markdown",
   "metadata": {},
   "source": [
    "In der Ruhelage gilt\n",
    "\n",
    "$\n",
    "0 = 1 - x_1 - x_1 x_2\n",
    "$\n",
    "\n",
    "$\n",
    "0 = - x_2 + \\sin(u)\n",
    "$\n",
    "\n",
    "$\n",
    "y = x_1\n",
    "$\n",
    "\n",
    "und damit\n",
    "\n",
    "$\n",
    "x_1 (1 + x_2) = 1\n",
    "$\n",
    "\n",
    "$\n",
    "x_2 = \\sin(u)\n",
    "$\n"
   ]
  },
  {
   "cell_type": "markdown",
   "metadata": {},
   "source": [
    "Wollen wir beispielsweise den Augang um einen Sollwert $0.8 \\leq w \\leq 1.2$ stabilisieren, bietet sich eine Linearisierung um $y = x_1 = 1.0$ an. Es ergibt sich damit der Arbeitspunkt $x_{10} = 1, x_{20} = 0, u_0 = 0$. "
   ]
  },
  {
   "cell_type": "markdown",
   "metadata": {},
   "source": [
    "Die Jacobi-Matrizen lauten somit:\n",
    "\n",
    "$\n",
    "A_0 = \n",
    "\\begin{bmatrix}\n",
    "-1 &\n",
    "-1 \\\\\n",
    "0 &\n",
    "-1 \n",
    "\\end{bmatrix}\n",
    "$\n",
    "\n",
    "$\n",
    "B_0 = \n",
    "\\begin{bmatrix}\n",
    "0 \\\\\n",
    "1 \n",
    "\\end{bmatrix}\n",
    "$"
   ]
  },
  {
   "cell_type": "code",
   "execution_count": 52,
   "metadata": {},
   "outputs": [],
   "source": [
    "# linearisiertes System\n",
    "A0 = [[-1.,-1.],[0,-1]]\n",
    "b0 = [[0],[1]]\n",
    "c0 = [[1,0]]\n",
    "d0 = [0]\n",
    "\n",
    "# ZR-System\n",
    "#linsys = ctrl.ss(A0,b0,c0,d0)"
   ]
  },
  {
   "cell_type": "code",
   "execution_count": 13,
   "metadata": {},
   "outputs": [
    {
     "name": "stdout",
     "output_type": "stream",
     "text": [
      "Rang = 2\n"
     ]
    }
   ],
   "source": [
    "# Steuerbarkeitsmatrix\n",
    "#Cm = ctrl.ctrb(A0, b0)\n",
    "# Rang \n",
    "#N = np.linalg.matrix_rank(Cm)\n",
    "\n",
    "#print(\"Rang = \" + str(N)) "
   ]
  },
  {
   "cell_type": "code",
   "execution_count": 53,
   "metadata": {},
   "outputs": [],
   "source": [
    "# Eigenwerte \n",
    "p = [-1.5,-3]\n",
    "\n",
    "# Reglermatrix\n",
    "#K = ctrl.place(A0,b0,p)\n",
    "\n",
    "#print(\"k = \" + str(K))"
   ]
  },
  {
   "cell_type": "code",
   "execution_count": 54,
   "metadata": {},
   "outputs": [
    {
     "name": "stdout",
     "output_type": "stream",
     "text": [
      "[[-1.   2.5]]\n"
     ]
    }
   ],
   "source": [
    "kk = signal.place_poles(np.array(A0),np.array(b0),np.array(p))\n",
    "K = kk.gain_matrix\n",
    "print(K)"
   ]
  },
  {
   "cell_type": "code",
   "execution_count": 55,
   "metadata": {},
   "outputs": [
    {
     "name": "stdout",
     "output_type": "stream",
     "text": [
      "S = [[-4.5]]\n"
     ]
    }
   ],
   "source": [
    "# Vorfilter\n",
    "BK_A = np.linalg.inv(np.dot(b0,K)-A0)\n",
    "S_inv = np.dot(c0,np.dot(BK_A,b0))\n",
    "S = np.linalg.inv(S_inv) \n",
    "\n",
    "print(\"S = \" + str(S))"
   ]
  },
  {
   "cell_type": "code",
   "execution_count": 56,
   "metadata": {},
   "outputs": [],
   "source": [
    "# Nichtlineares System \n",
    "def f(x,u):\n",
    "    dx = np.zeros(2)\n",
    "    dx[0] = 1 - x[0] - x[0]*x[1]\n",
    "    dx[1] = -x[1] + np.sin(u)\n",
    "    return dx\n",
    "\n",
    "def g(x,u):\n",
    "    y = x[0]\n",
    "    return y"
   ]
  },
  {
   "cell_type": "markdown",
   "metadata": {},
   "source": [
    "Simulation:"
   ]
  },
  {
   "cell_type": "code",
   "execution_count": 57,
   "metadata": {},
   "outputs": [],
   "source": [
    "dt = 0.01 \n",
    "t = np.arange(0,10+dt,dt) \n",
    "\n",
    "u = np.zeros(len(t)) # Eingangsgröße \n",
    "x = np.zeros([len(t)+1,2]) # Zustandsgrößen\n",
    "y = np.zeros(len(t)) # Ausgangsgröße\n",
    "\n",
    "# Linearisierungspunkt\n",
    "x0 = np.array([1,0])\n",
    "u0 = 0\n",
    "\n",
    "# Anfangszustand\n",
    "xa = np.array([0.5,0.5])\n",
    "x[0] = xa\n",
    "\n",
    "#Sollwert \n",
    "w = 0.8\n",
    "dw = w - x0[0]\n",
    "\n",
    "for k in range(len(t)):\n",
    "    \n",
    "    # Regler\n",
    "    u[k] = - np.dot(K,x[k]-x0) + S*dw\n",
    "    # Beschränkung\n",
    "    if u[k] < -0.5:\n",
    "        u[k] = -0.5\n",
    "    if u[k] > 0.5:\n",
    "        u[k] = 0.5\n",
    "    \n",
    "    # System simulieren (Euler)\n",
    "    dx = f(x[k],u[k])\n",
    "    x[k+1] = x[k] + dx*dt\n",
    "    # Ausgangsgröße\n",
    "    y[k] = g(x[k],u[k])"
   ]
  },
  {
   "cell_type": "code",
   "execution_count": 58,
   "metadata": {},
   "outputs": [
    {
     "data": {
      "image/png": "[encoded data removed]",
      "text/plain": [
       "<Figure size 1008x360 with 2 Axes>"
      ]
     },
     "metadata": {},
     "output_type": "display_data"
    }
   ],
   "source": [
    "plt.figure(figsize=(14,5))\n",
    "plt.subplot(1,2,1)\n",
    "plt.plot(t, x[:len(t),0])\n",
    "plt.plot(t, x[:len(t),1])\n",
    "plt.grid()\n",
    "plt.xlabel('t')\n",
    "plt.ylabel('x1,x2')\n",
    "plt.legend(['$x_1$','$x_2$'])\n",
    "\n",
    "plt.subplot(1,2,2)\n",
    "plt.plot(t, u)\n",
    "plt.grid()\n",
    "plt.xlabel('t')\n",
    "plt.ylabel('u')\n",
    "plt.legend(['$u$'])\n",
    "plt.show()"
   ]
  },
  {
   "cell_type": "markdown",
   "metadata": {},
   "source": [
    "Da das Vorfilter für Abweichungen vom Linearisierungspunkt keine stationäre Genauigkeit erreicht, bietet sich der Einsatz der Integralen Ausgangsrückführung an:"
   ]
  },
  {
   "cell_type": "code",
   "execution_count": 59,
   "metadata": {},
   "outputs": [
    {
     "name": "stdout",
     "output_type": "stream",
     "text": [
      "[[-3.   2.5  3. ]]\n"
     ]
    }
   ],
   "source": [
    "# erwitertes linearisiertes System\n",
    "A1 = [[-1.,-1.,0],[0,-1,0],[-1,0,0]]\n",
    "b1 = [[0],[1],[0]]\n",
    "\n",
    "# Eigenwerte \n",
    "p1 = np.array([-1,-1.5,-2])-0\n",
    "\n",
    "# Reglermatrix\n",
    "#K1 = ctrl.place(A1,b1,p1)\n",
    "k1 = signal.place_poles(np.array(A1),np.array(b1),np.array(p1))\n",
    "K1 = k1.gain_matrix\n",
    "print(K1)"
   ]
  },
  {
   "cell_type": "code",
   "execution_count": 60,
   "metadata": {},
   "outputs": [],
   "source": [
    "dt = 0.01 \n",
    "t = np.arange(0,10+dt,dt) \n",
    "\n",
    "u = np.zeros(len(t)) # Eingangsgröße \n",
    "x = np.zeros([len(t)+1,2]) # Zustandsgrößen\n",
    "y = np.zeros(len(t)) # Ausgangsgröße\n",
    "\n",
    "# Linearisierungspunkt\n",
    "x0 = np.array([1,0])\n",
    "u0 = 0\n",
    "\n",
    "# Anfangszustand\n",
    "xa = np.array([0.5,0.5])\n",
    "x[0] = xa\n",
    "\n",
    "# Sollwert \n",
    "w = 1.3\n",
    "\n",
    "# Fehlerintegral\n",
    "ei = 0.5*K1[0,0]/K1[0,2]\n",
    "\n",
    "for k in range(len(t)):\n",
    "    \n",
    "    # Fehler integrieren\n",
    "    if(k > 0):\n",
    "        e = w - y[k-1] \n",
    "        # Anti-Windup\n",
    "        if u[k-1] > -0.5:\n",
    "            if u[k-1] < 0.5:\n",
    "                ei += e*dt\n",
    "        \n",
    "    # Zustandsvektor erweitern und Offset korrigieren\n",
    "    xerw = np.array([x[k,0]-x0[0],x[k,1]-x0[1],ei])\n",
    "    # Stellgröße berechnen \n",
    "    u[k] = - np.dot(K1,xerw)\n",
    "    # Beschränkung\n",
    "    if u[k] < -0.5:\n",
    "        u[k] = -0.5\n",
    "    if u[k] > 0.5:\n",
    "        u[k] = 0.5\n",
    "        \n",
    "    # System simulieren (Euler)\n",
    "    dx = f(x[k],u[k])\n",
    "    x[k+1] = x[k] + dx*dt\n",
    "    # Ausgangsgröße\n",
    "    y[k] = g(x[k],u[k])"
   ]
  },
  {
   "cell_type": "code",
   "execution_count": 61,
   "metadata": {},
   "outputs": [
    {
     "data": {
      "image/png": "[encoded data removed]",
      "text/plain": [
       "<Figure size 1008x360 with 2 Axes>"
      ]
     },
     "metadata": {},
     "output_type": "display_data"
    }
   ],
   "source": [
    "plt.figure(figsize=(14,5))\n",
    "plt.subplot(1,2,1)\n",
    "plt.plot(t, x[:len(t),0])\n",
    "plt.plot(t, x[:len(t),1])\n",
    "plt.grid()\n",
    "plt.xlabel('t')\n",
    "plt.ylabel('x1,x2')\n",
    "plt.legend(['$x_1$','$x_2$'])\n",
    "\n",
    "plt.subplot(1,2,2)\n",
    "plt.plot(t, u)\n",
    "plt.grid()\n",
    "plt.xlabel('t')\n",
    "plt.ylabel('u')\n",
    "plt.legend(['$u$'])\n",
    "plt.show()"
   ]
  },
  {
   "cell_type": "code",
   "execution_count": null,
   "metadata": {},
   "outputs": [],
   "source": []
  }
 ],
 "metadata": {
  "kernelspec": {
   "display_name": "Python 3",
   "language": "python",
   "name": "python3"
  },
  "language_info": {
   "codemirror_mode": {
    "name": "ipython",
    "version": 3
   },
   "file_extension": ".py",
   "mimetype": "text/x-python",
   "name": "python",
   "nbconvert_exporter": "python",
   "pygments_lexer": "ipython3",
   "version": "3.6.3"
  }
 },
 "nbformat": 4,
 "nbformat_minor": 4
}
